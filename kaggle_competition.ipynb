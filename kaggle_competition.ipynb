{
 "cells": [
  {
   "cell_type": "code",
   "execution_count": 29,
   "id": "7e05f4a9",
   "metadata": {},
   "outputs": [],
   "source": [
    "import pandas as pd\n",
    "import seaborn as sns\n",
    "from sklearn.model_selection import train_test_split, GridSearchCV\n",
    "from sklearn import metrics\n",
    "from sklearn.tree import DecisionTreeRegressor\n",
    "from sklearn.ensemble import RandomForestRegressor"
   ]
  },
  {
   "cell_type": "code",
   "execution_count": 2,
   "id": "06777ba6",
   "metadata": {},
   "outputs": [],
   "source": [
    "df = pd.read_csv(\"./data/train.csv\")"
   ]
  },
  {
   "cell_type": "code",
   "execution_count": 3,
   "id": "492214f7",
   "metadata": {},
   "outputs": [
    {
     "data": {
      "text/html": [
       "<div>\n",
       "<style scoped>\n",
       "    .dataframe tbody tr th:only-of-type {\n",
       "        vertical-align: middle;\n",
       "    }\n",
       "\n",
       "    .dataframe tbody tr th {\n",
       "        vertical-align: top;\n",
       "    }\n",
       "\n",
       "    .dataframe thead th {\n",
       "        text-align: right;\n",
       "    }\n",
       "</style>\n",
       "<table border=\"1\" class=\"dataframe\">\n",
       "  <thead>\n",
       "    <tr style=\"text-align: right;\">\n",
       "      <th></th>\n",
       "      <th>id</th>\n",
       "      <th>carat</th>\n",
       "      <th>cut</th>\n",
       "      <th>color</th>\n",
       "      <th>clarity</th>\n",
       "      <th>depth</th>\n",
       "      <th>table</th>\n",
       "      <th>x</th>\n",
       "      <th>y</th>\n",
       "      <th>z</th>\n",
       "      <th>price</th>\n",
       "    </tr>\n",
       "  </thead>\n",
       "  <tbody>\n",
       "    <tr>\n",
       "      <th>0</th>\n",
       "      <td>0</td>\n",
       "      <td>0.30</td>\n",
       "      <td>Premium</td>\n",
       "      <td>D</td>\n",
       "      <td>SI2</td>\n",
       "      <td>62.4</td>\n",
       "      <td>58.0</td>\n",
       "      <td>4.31</td>\n",
       "      <td>4.28</td>\n",
       "      <td>2.68</td>\n",
       "      <td>6.353</td>\n",
       "    </tr>\n",
       "    <tr>\n",
       "      <th>1</th>\n",
       "      <td>1</td>\n",
       "      <td>1.01</td>\n",
       "      <td>Ideal</td>\n",
       "      <td>E</td>\n",
       "      <td>VVS2</td>\n",
       "      <td>62.7</td>\n",
       "      <td>56.0</td>\n",
       "      <td>6.42</td>\n",
       "      <td>6.46</td>\n",
       "      <td>4.04</td>\n",
       "      <td>9.183</td>\n",
       "    </tr>\n",
       "    <tr>\n",
       "      <th>2</th>\n",
       "      <td>2</td>\n",
       "      <td>0.72</td>\n",
       "      <td>Ideal</td>\n",
       "      <td>F</td>\n",
       "      <td>VS2</td>\n",
       "      <td>61.8</td>\n",
       "      <td>59.0</td>\n",
       "      <td>5.71</td>\n",
       "      <td>5.74</td>\n",
       "      <td>3.54</td>\n",
       "      <td>7.983</td>\n",
       "    </tr>\n",
       "    <tr>\n",
       "      <th>3</th>\n",
       "      <td>3</td>\n",
       "      <td>1.08</td>\n",
       "      <td>Very Good</td>\n",
       "      <td>G</td>\n",
       "      <td>SI2</td>\n",
       "      <td>63.2</td>\n",
       "      <td>57.0</td>\n",
       "      <td>6.54</td>\n",
       "      <td>6.50</td>\n",
       "      <td>4.12</td>\n",
       "      <td>8.371</td>\n",
       "    </tr>\n",
       "    <tr>\n",
       "      <th>4</th>\n",
       "      <td>4</td>\n",
       "      <td>0.36</td>\n",
       "      <td>Premium</td>\n",
       "      <td>G</td>\n",
       "      <td>VS1</td>\n",
       "      <td>62.3</td>\n",
       "      <td>59.0</td>\n",
       "      <td>4.50</td>\n",
       "      <td>4.55</td>\n",
       "      <td>2.82</td>\n",
       "      <td>6.588</td>\n",
       "    </tr>\n",
       "  </tbody>\n",
       "</table>\n",
       "</div>"
      ],
      "text/plain": [
       "   id  carat        cut color clarity  depth  table     x     y     z  price\n",
       "0   0   0.30    Premium     D     SI2   62.4   58.0  4.31  4.28  2.68  6.353\n",
       "1   1   1.01      Ideal     E    VVS2   62.7   56.0  6.42  6.46  4.04  9.183\n",
       "2   2   0.72      Ideal     F     VS2   61.8   59.0  5.71  5.74  3.54  7.983\n",
       "3   3   1.08  Very Good     G     SI2   63.2   57.0  6.54  6.50  4.12  8.371\n",
       "4   4   0.36    Premium     G     VS1   62.3   59.0  4.50  4.55  2.82  6.588"
      ]
     },
     "execution_count": 3,
     "metadata": {},
     "output_type": "execute_result"
    }
   ],
   "source": [
    "df.head()"
   ]
  },
  {
   "cell_type": "code",
   "execution_count": 4,
   "id": "dee2a164",
   "metadata": {},
   "outputs": [
    {
     "data": {
      "text/plain": [
       "<AxesSubplot:xlabel='price', ylabel='Count'>"
      ]
     },
     "execution_count": 4,
     "metadata": {},
     "output_type": "execute_result"
    },
    {
     "data": {
      "image/png": "[encoded data removed]",
      "text/plain": [
       "<Figure size 432x288 with 1 Axes>"
      ]
     },
     "metadata": {
      "needs_background": "light"
     },
     "output_type": "display_data"
    }
   ],
   "source": [
    "#lets take a look how the histogram looks like\n",
    "sns.histplot(df[\"price\"], bins=30)"
   ]
  },
  {
   "cell_type": "code",
   "execution_count": 5,
   "id": "6ed0520b",
   "metadata": {},
   "outputs": [
    {
     "data": {
      "text/plain": [
       "id         0\n",
       "carat      0\n",
       "cut        0\n",
       "color      0\n",
       "clarity    0\n",
       "depth      0\n",
       "table      0\n",
       "x          0\n",
       "y          0\n",
       "z          0\n",
       "price      0\n",
       "dtype: int64"
      ]
     },
     "execution_count": 5,
     "metadata": {},
     "output_type": "execute_result"
    }
   ],
   "source": [
    "#lets check now the nulls\n",
    "df.isnull().sum()\n"
   ]
  },
  {
   "cell_type": "code",
   "execution_count": 6,
   "id": "4b215ca9",
   "metadata": {},
   "outputs": [
    {
     "data": {
      "text/plain": [
       "id           int64\n",
       "carat      float64\n",
       "cut         object\n",
       "color       object\n",
       "clarity     object\n",
       "depth      float64\n",
       "table      float64\n",
       "x          float64\n",
       "y          float64\n",
       "z          float64\n",
       "price      float64\n",
       "dtype: object"
      ]
     },
     "execution_count": 6,
     "metadata": {},
     "output_type": "execute_result"
    }
   ],
   "source": [
    "#and the types\n",
    "df.dtypes"
   ]
  },
  {
   "cell_type": "code",
   "execution_count": 7,
   "id": "fc4fb355",
   "metadata": {},
   "outputs": [],
   "source": [
    "#We can seee therer are some objects, so lets take a look into them"
   ]
  },
  {
   "cell_type": "code",
   "execution_count": 8,
   "id": "38d77cfb",
   "metadata": {},
   "outputs": [
    {
     "data": {
      "text/plain": [
       "array(['D', 'E', 'F', 'G', 'H', 'I', 'J'], dtype=object)"
      ]
     },
     "execution_count": 8,
     "metadata": {},
     "output_type": "execute_result"
    }
   ],
   "source": [
    "df.color.unique()"
   ]
  },
  {
   "cell_type": "code",
   "execution_count": 9,
   "id": "ae01b318",
   "metadata": {},
   "outputs": [],
   "source": [
    "#After a quick search in google we have checked which values are the most and less important\n"
   ]
  },
  {
   "cell_type": "code",
   "execution_count": 10,
   "id": "0969d97d",
   "metadata": {},
   "outputs": [],
   "source": [
    "# The color is a categorical column and it the diffeent values have a natural order\n",
    "color_dic = {\n",
    "    \"D\": 1,\n",
    "    \"E\": 2,\n",
    "    \"F\": 3,\n",
    "    \"G\": 4,\n",
    "    \"H\": 5,\n",
    "    \"I\": 6,\n",
    "    \"J\": 7,\n",
    "    \n",
    "}"
   ]
  },
  {
   "cell_type": "code",
   "execution_count": 11,
   "id": "34dea219",
   "metadata": {},
   "outputs": [],
   "source": [
    "# Now we use map to change the categorical values of the column color with our numbers\n",
    "df.color = df.color.map(color_dic)"
   ]
  },
  {
   "cell_type": "code",
   "execution_count": 12,
   "id": "1dff2cc3",
   "metadata": {},
   "outputs": [
    {
     "data": {
      "text/plain": [
       "array(['SI2', 'VVS2', 'VS2', 'VS1', 'SI1', 'VVS1', 'IF', 'I1'],\n",
       "      dtype=object)"
      ]
     },
     "execution_count": 12,
     "metadata": {},
     "output_type": "execute_result"
    }
   ],
   "source": [
    "#Same with clarity\n",
    "df.clarity.unique()"
   ]
  },
  {
   "cell_type": "code",
   "execution_count": 13,
   "id": "16862f2e",
   "metadata": {},
   "outputs": [],
   "source": [
    "clarity_dic = {\n",
    "    \"IF\":   1,\n",
    "    \"VVS1\": 2,\n",
    "    \"VVS2\": 3,\n",
    "    \"VS1\":  4,\n",
    "    \"VS2\":  5,\n",
    "    \"SI1\":  6,\n",
    "    \"SI2\":  7,\n",
    "    \"I1\":   8,\n",
    "    \n",
    "}"
   ]
  },
  {
   "cell_type": "code",
   "execution_count": 14,
   "id": "0f6fe7f7",
   "metadata": {},
   "outputs": [],
   "source": [
    "# Con un map reemplazamos todas las strings de la columna Deck por el valor asignado en el diccionario\n",
    "df.clarity = df.clarity.map(clarity_dic)"
   ]
  },
  {
   "cell_type": "code",
   "execution_count": 15,
   "id": "cd99f9d7",
   "metadata": {},
   "outputs": [
    {
     "data": {
      "text/plain": [
       "array(['Premium', 'Ideal', 'Very Good', 'Fair', 'Good'], dtype=object)"
      ]
     },
     "execution_count": 15,
     "metadata": {},
     "output_type": "execute_result"
    }
   ],
   "source": [
    "df.cut.unique()"
   ]
  },
  {
   "cell_type": "code",
   "execution_count": 16,
   "id": "e4897b5a",
   "metadata": {},
   "outputs": [],
   "source": [
    "#And same with columnd cut\n",
    "cut_dic = {\n",
    "    \"Premium\":   1,\n",
    "    \"Ideal\": 2,\n",
    "    \"Very Good\": 3,\n",
    "    \"Fair\":  4,\n",
    "    \"Good\":  5,\n",
    "}"
   ]
  },
  {
   "cell_type": "code",
   "execution_count": 17,
   "id": "eadb83b5",
   "metadata": {},
   "outputs": [],
   "source": [
    "df.cut = df.cut.map(cut_dic)"
   ]
  },
  {
   "cell_type": "code",
   "execution_count": 18,
   "id": "45737dcd",
   "metadata": {},
   "outputs": [
    {
     "data": {
      "text/plain": [
       "id        -0.003194\n",
       "carat      0.920064\n",
       "cut       -0.009901\n",
       "color      0.157426\n",
       "clarity    0.213649\n",
       "depth     -0.003292\n",
       "table      0.162804\n",
       "x          0.957668\n",
       "y          0.928909\n",
       "z          0.930014\n",
       "price      1.000000\n",
       "Name: price, dtype: float64"
      ]
     },
     "execution_count": 18,
     "metadata": {},
     "output_type": "execute_result"
    }
   ],
   "source": [
    "#lets see the correlation matrix for price\n",
    "#I hae checked this matrix many time, every time I was changing droping and adding new columns\n",
    "df.corr()[\"price\"]"
   ]
  },
  {
   "cell_type": "code",
   "execution_count": 20,
   "id": "8fee5ed7",
   "metadata": {},
   "outputs": [
    {
     "data": {
      "text/plain": [
       "<AxesSubplot:>"
      ]
     },
     "execution_count": 20,
     "metadata": {},
     "output_type": "execute_result"
    },
    {
     "data": {
      "image/png": "[encoded data removed]",
      "text/plain": [
       "<Figure size 432x288 with 2 Axes>"
      ]
     },
     "metadata": {
      "needs_background": "light"
     },
     "output_type": "display_data"
    }
   ],
   "source": [
    "#Same with this matrix, checking it in every change\n",
    "corr = df.corr()\n",
    "sns.heatmap(data=corr, square=True , annot=True, cbar=True)"
   ]
  },
  {
   "cell_type": "code",
   "execution_count": 21,
   "id": "5e5336ad",
   "metadata": {},
   "outputs": [],
   "source": [
    "#Here we are with my last manipulation of columns\n",
    "#I did it kind of randomly and this ones were the one with the best results\n",
    "\n",
    "df[\"clar_color\"] =(df.clarity*df.color)\n",
    "df[\"table_color\"] =(df.table*df.cut)\n",
    "df[\"table_clarity\"] =(df.table*df.clarity)\n",
    "df[\"table_/_clarity\"] =(df.table/df.clarity)\n",
    "df[\"table_clarity_cut\"] =(df.table*df.clarity*df.cut)\n",
    "df[\"x*y*z\"] = (df.x*df.y*df.z)\n",
    "df[\"x_/_y\"] = (df.x/df.y)\n",
    "df[\"x_/_z\"] = (df.y/df.z)\n",
    "df [\"all\"] = df.carat*df.cut*df.color*df.depth*df.table*df.x*df.y*df.z/7"
   ]
  },
  {
   "cell_type": "code",
   "execution_count": 22,
   "id": "4ca502e3",
   "metadata": {},
   "outputs": [],
   "source": [
    "# Because in my testing I was dividing by some columns, I had to check if they have\n",
    "# any 0 value"
   ]
  },
  {
   "cell_type": "code",
   "execution_count": 23,
   "id": "3e6fa8c6",
   "metadata": {},
   "outputs": [],
   "source": [
    "df = df[((df['x'] != 0) & (df['y'] != 0)) & (df['z'] != 0)  & (df['table'] != 0)  & (df['cut'] != 0)]"
   ]
  },
  {
   "cell_type": "code",
   "execution_count": 24,
   "id": "f1ab7f62",
   "metadata": {},
   "outputs": [
    {
     "data": {
      "text/plain": [
       "(40438, 20)"
      ]
     },
     "execution_count": 24,
     "metadata": {},
     "output_type": "execute_result"
    }
   ],
   "source": [
    "#lets see the shape \n",
    "df.shape"
   ]
  },
  {
   "cell_type": "code",
   "execution_count": 25,
   "id": "ebd0fe5c",
   "metadata": {},
   "outputs": [
    {
     "data": {
      "text/html": [
       "<div>\n",
       "<style scoped>\n",
       "    .dataframe tbody tr th:only-of-type {\n",
       "        vertical-align: middle;\n",
       "    }\n",
       "\n",
       "    .dataframe tbody tr th {\n",
       "        vertical-align: top;\n",
       "    }\n",
       "\n",
       "    .dataframe thead th {\n",
       "        text-align: right;\n",
       "    }\n",
       "</style>\n",
       "<table border=\"1\" class=\"dataframe\">\n",
       "  <thead>\n",
       "    <tr style=\"text-align: right;\">\n",
       "      <th></th>\n",
       "      <th>id</th>\n",
       "      <th>carat</th>\n",
       "      <th>cut</th>\n",
       "      <th>color</th>\n",
       "      <th>clarity</th>\n",
       "      <th>depth</th>\n",
       "      <th>table</th>\n",
       "      <th>x</th>\n",
       "      <th>y</th>\n",
       "      <th>z</th>\n",
       "      <th>price</th>\n",
       "      <th>clar_color</th>\n",
       "      <th>table_color</th>\n",
       "      <th>table_clarity</th>\n",
       "      <th>table_/_clarity</th>\n",
       "      <th>table_clarity_cut</th>\n",
       "      <th>x*y*z</th>\n",
       "      <th>x_/_y</th>\n",
       "      <th>x_/_z</th>\n",
       "      <th>all</th>\n",
       "    </tr>\n",
       "  </thead>\n",
       "  <tbody>\n",
       "    <tr>\n",
       "      <th>0</th>\n",
       "      <td>0</td>\n",
       "      <td>0.30</td>\n",
       "      <td>1</td>\n",
       "      <td>1</td>\n",
       "      <td>7</td>\n",
       "      <td>62.4</td>\n",
       "      <td>58.0</td>\n",
       "      <td>4.31</td>\n",
       "      <td>4.28</td>\n",
       "      <td>2.68</td>\n",
       "      <td>6.353</td>\n",
       "      <td>7</td>\n",
       "      <td>58.0</td>\n",
       "      <td>406.0</td>\n",
       "      <td>8.285714</td>\n",
       "      <td>406.0</td>\n",
       "      <td>49.437424</td>\n",
       "      <td>1.007009</td>\n",
       "      <td>1.597015</td>\n",
       "      <td>7668.168212</td>\n",
       "    </tr>\n",
       "    <tr>\n",
       "      <th>1</th>\n",
       "      <td>1</td>\n",
       "      <td>1.01</td>\n",
       "      <td>2</td>\n",
       "      <td>2</td>\n",
       "      <td>3</td>\n",
       "      <td>62.7</td>\n",
       "      <td>56.0</td>\n",
       "      <td>6.42</td>\n",
       "      <td>6.46</td>\n",
       "      <td>4.04</td>\n",
       "      <td>9.183</td>\n",
       "      <td>6</td>\n",
       "      <td>112.0</td>\n",
       "      <td>168.0</td>\n",
       "      <td>18.666667</td>\n",
       "      <td>336.0</td>\n",
       "      <td>167.551728</td>\n",
       "      <td>0.993808</td>\n",
       "      <td>1.599010</td>\n",
       "      <td>339537.544930</td>\n",
       "    </tr>\n",
       "  </tbody>\n",
       "</table>\n",
       "</div>"
      ],
      "text/plain": [
       "   id  carat  cut  color  clarity  depth  table     x     y     z  price  \\\n",
       "0   0   0.30    1      1        7   62.4   58.0  4.31  4.28  2.68  6.353   \n",
       "1   1   1.01    2      2        3   62.7   56.0  6.42  6.46  4.04  9.183   \n",
       "\n",
       "   clar_color  table_color  table_clarity  table_/_clarity  table_clarity_cut  \\\n",
       "0           7         58.0          406.0         8.285714              406.0   \n",
       "1           6        112.0          168.0        18.666667              336.0   \n",
       "\n",
       "        x*y*z     x_/_y     x_/_z            all  \n",
       "0   49.437424  1.007009  1.597015    7668.168212  \n",
       "1  167.551728  0.993808  1.599010  339537.544930  "
      ]
     },
     "execution_count": 25,
     "metadata": {},
     "output_type": "execute_result"
    }
   ],
   "source": [
    "#and the head\n",
    "#df.head(2)"
   ]
  },
  {
   "cell_type": "code",
   "execution_count": 26,
   "id": "0136d0b2",
   "metadata": {},
   "outputs": [
    {
     "name": "stderr",
     "output_type": "stream",
     "text": [
      "<ipython-input-26-0b1bca259dea>:3: FutureWarning: In a future version of pandas all arguments of DataFrame.drop except for the argument 'labels' will be keyword-only\n",
      "  X = df.drop('price', 1)\n",
      "<ipython-input-26-0b1bca259dea>:4: FutureWarning: In a future version of pandas all arguments of DataFrame.drop except for the argument 'labels' will be keyword-only\n",
      "  X = X.drop(\"id\",1)\n",
      "<ipython-input-26-0b1bca259dea>:8: FutureWarning: In a future version of pandas all arguments of DataFrame.drop except for the argument 'labels' will be keyword-only\n",
      "  X = X.drop(\"x\",1)\n",
      "<ipython-input-26-0b1bca259dea>:9: FutureWarning: In a future version of pandas all arguments of DataFrame.drop except for the argument 'labels' will be keyword-only\n",
      "  X = X.drop(\"y\",1)\n",
      "<ipython-input-26-0b1bca259dea>:10: FutureWarning: In a future version of pandas all arguments of DataFrame.drop except for the argument 'labels' will be keyword-only\n",
      "  X = X.drop(\"z\",1)\n"
     ]
    }
   ],
   "source": [
    "# Here is where we are creating our X and y\n",
    "# We drop price and id \n",
    "X = df.drop('price', 1)\n",
    "X = X.drop(\"id\",1)\n",
    "\n",
    "# After droping various correlated features, these ones where the ones that gaving\n",
    "# me the best results.\n",
    "X = X.drop(\"x\",1)\n",
    "X = X.drop(\"y\",1)\n",
    "X = X.drop(\"z\",1)\n",
    "y = df[\"price\"]"
   ]
  },
  {
   "cell_type": "code",
   "execution_count": 30,
   "id": "5fb3aff9",
   "metadata": {},
   "outputs": [],
   "source": [
    "#lets do the split\n",
    "X_train, X_test, y_train, y_test = train_test_split(X, y, test_size=0.2, random_state=666)\n"
   ]
  },
  {
   "cell_type": "code",
   "execution_count": 31,
   "id": "07e04e7f",
   "metadata": {},
   "outputs": [],
   "source": [
    "# Our first try was win a DecisionTreeRegressor"
   ]
  },
  {
   "cell_type": "code",
   "execution_count": 32,
   "id": "e0c4a33a",
   "metadata": {},
   "outputs": [],
   "source": [
    "tree = DecisionTreeRegressor(max_depth=10, random_state=666)"
   ]
  },
  {
   "cell_type": "code",
   "execution_count": 33,
   "id": "0330c743",
   "metadata": {},
   "outputs": [
    {
     "data": {
      "text/plain": [
       "DecisionTreeRegressor(max_depth=10, random_state=666)"
      ]
     },
     "execution_count": 33,
     "metadata": {},
     "output_type": "execute_result"
    }
   ],
   "source": [
    "# training the tree\n",
    "tree.fit(X_train, y_train)"
   ]
  },
  {
   "cell_type": "code",
   "execution_count": 34,
   "id": "4b12b005",
   "metadata": {},
   "outputs": [],
   "source": [
    "# Prediction from our train set\n",
    "y_train_pred = tree.predict(X_train)"
   ]
  },
  {
   "cell_type": "code",
   "execution_count": 35,
   "id": "d2da36a9",
   "metadata": {},
   "outputs": [
    {
     "data": {
      "text/plain": [
       "0.09254835551394557"
      ]
     },
     "execution_count": 35,
     "metadata": {},
     "output_type": "execute_result"
    }
   ],
   "source": [
    "#And we have a decent 0.092\n",
    "metrics.mean_squared_error(y_train, y_train_pred )**0.5"
   ]
  },
  {
   "cell_type": "code",
   "execution_count": 36,
   "id": "e77eeea8",
   "metadata": {},
   "outputs": [],
   "source": [
    "# Prediction from our test set 0.11\n",
    "y_test_pred = tree.predict(X_test)"
   ]
  },
  {
   "cell_type": "code",
   "execution_count": 37,
   "id": "33096abf",
   "metadata": {},
   "outputs": [
    {
     "data": {
      "text/plain": [
       "0.10892318402116676"
      ]
     },
     "execution_count": 37,
     "metadata": {},
     "output_type": "execute_result"
    }
   ],
   "source": [
    "# And we get a not abd \n",
    "metrics.mean_squared_error(y_test, y_test_pred ) **0.5"
   ]
  },
  {
   "cell_type": "code",
   "execution_count": 42,
   "id": "6345f540",
   "metadata": {},
   "outputs": [],
   "source": [
    "#I have been tunning these hyperparameters for while,\n",
    "# and I did Grid and random searching\n",
    "#Hiperparámetros tuneables de RandomForest\n",
    "\n",
    "parameters = {\n",
    " 'bootstrap': [True, False],   \n",
    " 'max_depth': [None, 50,70,100],\n",
    " 'max_features': [7,8], \n",
    " 'min_samples_split': [ 2, 70,130],\n",
    " 'n_estimators': [150, 200,300 ]}\n",
    "\n",
    "\n",
    "\n"
   ]
  },
  {
   "cell_type": "code",
   "execution_count": 38,
   "id": "86c74854",
   "metadata": {},
   "outputs": [],
   "source": [
    "#Grid search preparation\n",
    "from sklearn.model_selection import GridSearchCV\n",
    "rfc = RandomForestRegressor()\n",
    "grid = GridSearchCV(rfc, parameters, verbose=1, cv =3)"
   ]
  },
  {
   "cell_type": "code",
   "execution_count": null,
   "id": "8174bf51",
   "metadata": {},
   "outputs": [],
   "source": [
    "# I have executed this code, but I Have commented because I don't want to executed by mistake\n",
    "#because it is a very slow process\n",
    "\n",
    "##grid.fit(X_train,y_train)"
   ]
  },
  {
   "cell_type": "code",
   "execution_count": 43,
   "id": "30c1bf6f",
   "metadata": {},
   "outputs": [],
   "source": [
    "#Random search preparation\n",
    "from sklearn.model_selection import RandomizedSearchCV\n",
    "rf_best = RandomForestRegressor()\n",
    "rgs = RandomizedSearchCV(rf_best, parameters, cv=3,  random_state=666)"
   ]
  },
  {
   "cell_type": "code",
   "execution_count": 41,
   "id": "8c528b43",
   "metadata": {},
   "outputs": [
    {
     "data": {
      "text/plain": [
       "RandomizedSearchCV(cv=3,\n",
       "                   estimator=RandomForestRegressor(max_features=7,\n",
       "                                                   n_estimators=200,\n",
       "                                                   random_state=666),\n",
       "                   param_distributions={'bootstrap': [True, False],\n",
       "                                        'max_depth': [None, 50, 70, 100],\n",
       "                                        'max_features': [7, 8],\n",
       "                                        'min_samples_split': [2, 70, 130],\n",
       "                                        'n_estimators': [150, 200, 300]},\n",
       "                   random_state=666)"
      ]
     },
     "execution_count": 41,
     "metadata": {},
     "output_type": "execute_result"
    }
   ],
   "source": [
    "# I have executed this code, but I Have commented because I don't want to executed by mistake\n",
    "#because it is a very slow process\n",
    "\n",
    "#rgs.fit(X_train,y_train)"
   ]
  },
  {
   "cell_type": "code",
   "execution_count": 35,
   "id": "40c1c553",
   "metadata": {},
   "outputs": [
    {
     "data": {
      "text/plain": [
       "RandomForestRegressor(max_features=7, n_estimators=200, random_state=666)"
      ]
     },
     "execution_count": 35,
     "metadata": {},
     "output_type": "execute_result"
    }
   ],
   "source": [
    "# This one was my best stimator but I kept changing the parameter a littel bit\n",
    "rgs.best_estimator_"
   ]
  },
  {
   "cell_type": "code",
   "execution_count": 44,
   "id": "5b7f8398",
   "metadata": {},
   "outputs": [
    {
     "data": {
      "text/plain": [
       "RandomForestRegressor(max_features=7, n_estimators=600, random_state=666)"
      ]
     },
     "execution_count": 44,
     "metadata": {},
     "output_type": "execute_result"
    }
   ],
   "source": [
    "rf_best = RandomForestRegressor( max_features=7, n_estimators=600,  random_state=666)\n",
    "rf_best.fit(X_train,y_train)"
   ]
  },
  {
   "cell_type": "code",
   "execution_count": 45,
   "id": "a26caf85",
   "metadata": {},
   "outputs": [
    {
     "data": {
      "text/plain": [
       "0.03161891598230233"
      ]
     },
     "execution_count": 45,
     "metadata": {},
     "output_type": "execute_result"
    }
   ],
   "source": [
    "#this one gave me the best results\n",
    "y_rf_best_train_predict = rf_best.predict(X_train)\n",
    "metrics.mean_squared_error(y_train, y_rf_best_train_predict ) **0.5"
   ]
  },
  {
   "cell_type": "code",
   "execution_count": 46,
   "id": "a14f7f04",
   "metadata": {},
   "outputs": [
    {
     "data": {
      "text/plain": [
       "0.0835953831006302"
      ]
     },
     "execution_count": 46,
     "metadata": {},
     "output_type": "execute_result"
    }
   ],
   "source": [
    "# And this is the best predcction from the test \n",
    "y_rf_test_predict = rf_best.predict(X_test)\n",
    "metrics.mean_squared_error(y_test, y_rf_test_predict ) **0.5"
   ]
  },
  {
   "cell_type": "code",
   "execution_count": null,
   "id": "e39655c9",
   "metadata": {},
   "outputs": [],
   "source": [
    "# this is just for keepen track of the different results\n",
    "# 0.0835953831006302\n"
   ]
  },
  {
   "cell_type": "code",
   "execution_count": null,
   "id": "b6a2ad25",
   "metadata": {},
   "outputs": [],
   "source": [
    "# Im not goint to execute this, because it is just a test to let me know the predctions\n",
    "# made sense\n",
    "\n",
    "for i,j in zip(y_test,y_rf_test_predict):\n",
    "    print(i,j)"
   ]
  },
  {
   "cell_type": "code",
   "execution_count": 47,
   "id": "e50b3d7d",
   "metadata": {},
   "outputs": [
    {
     "data": {
      "text/plain": [
       "0.9932703855460613"
      ]
     },
     "execution_count": 47,
     "metadata": {},
     "output_type": "execute_result"
    }
   ],
   "source": [
    "# I wanted to have an idea about what was my R2 score\n",
    "metrics.r2_score(y_test, y_rf_test_predict )"
   ]
  },
  {
   "cell_type": "code",
   "execution_count": null,
   "id": "e5714be4",
   "metadata": {},
   "outputs": [],
   "source": [
    "#now i will train with the whole data set"
   ]
  },
  {
   "cell_type": "code",
   "execution_count": null,
   "id": "380b7f5b",
   "metadata": {},
   "outputs": [],
   "source": [
    "#We train with all data set to have the best trained model"
   ]
  },
  {
   "cell_type": "code",
   "execution_count": 48,
   "id": "1bb9708f",
   "metadata": {},
   "outputs": [
    {
     "data": {
      "text/plain": [
       "RandomForestRegressor(max_features=7, n_estimators=700, random_state=666)"
      ]
     },
     "execution_count": 48,
     "metadata": {},
     "output_type": "execute_result"
    }
   ],
   "source": [
    "rf_best = RandomForestRegressor( max_features=7, n_estimators=700,  random_state=666)\n",
    "rf_best.fit(X,y)"
   ]
  },
  {
   "cell_type": "code",
   "execution_count": 49,
   "id": "bd0f6b12",
   "metadata": {},
   "outputs": [
    {
     "data": {
      "text/plain": [
       "0.0835953831006302"
      ]
     },
     "execution_count": 49,
     "metadata": {},
     "output_type": "execute_result"
    }
   ],
   "source": [
    "y_rf_best_train_predict = rf_best.predict(X)\n",
    "metrics.mean_squared_error(y_test, y_rf_test_predict ) **0.5"
   ]
  },
  {
   "cell_type": "code",
   "execution_count": 50,
   "id": "7c46a857",
   "metadata": {},
   "outputs": [
    {
     "data": {
      "text/plain": [
       "(13485, 10)"
      ]
     },
     "execution_count": 50,
     "metadata": {},
     "output_type": "execute_result"
    }
   ],
   "source": [
    "#Lpading the test csv\n",
    "df = pd.read_csv(\"./data/test.csv\")\n",
    "df.shape"
   ]
  },
  {
   "cell_type": "code",
   "execution_count": 51,
   "id": "26fd7711",
   "metadata": {},
   "outputs": [],
   "source": [
    "# We need to modify the categorical columns as we did in our dataset\n",
    "\n",
    "df.cut = df.cut.map(cut_dic)\n",
    "df.clarity = df.clarity.map(clarity_dic)\n",
    "df.color = df.color.map(color_dic)"
   ]
  },
  {
   "cell_type": "code",
   "execution_count": 52,
   "id": "86d01e8d",
   "metadata": {},
   "outputs": [
    {
     "data": {
      "text/html": [
       "<div>\n",
       "<style scoped>\n",
       "    .dataframe tbody tr th:only-of-type {\n",
       "        vertical-align: middle;\n",
       "    }\n",
       "\n",
       "    .dataframe tbody tr th {\n",
       "        vertical-align: top;\n",
       "    }\n",
       "\n",
       "    .dataframe thead th {\n",
       "        text-align: right;\n",
       "    }\n",
       "</style>\n",
       "<table border=\"1\" class=\"dataframe\">\n",
       "  <thead>\n",
       "    <tr style=\"text-align: right;\">\n",
       "      <th></th>\n",
       "      <th>id</th>\n",
       "      <th>carat</th>\n",
       "      <th>cut</th>\n",
       "      <th>color</th>\n",
       "      <th>clarity</th>\n",
       "      <th>depth</th>\n",
       "      <th>table</th>\n",
       "      <th>x</th>\n",
       "      <th>y</th>\n",
       "      <th>z</th>\n",
       "    </tr>\n",
       "  </thead>\n",
       "  <tbody>\n",
       "    <tr>\n",
       "      <th>8786</th>\n",
       "      <td>8786</td>\n",
       "      <td>1.14</td>\n",
       "      <td>4</td>\n",
       "      <td>4</td>\n",
       "      <td>4</td>\n",
       "      <td>57.5</td>\n",
       "      <td>67.0</td>\n",
       "      <td>0.00</td>\n",
       "      <td>0.00</td>\n",
       "      <td>0.0</td>\n",
       "    </tr>\n",
       "    <tr>\n",
       "      <th>8876</th>\n",
       "      <td>8876</td>\n",
       "      <td>1.15</td>\n",
       "      <td>2</td>\n",
       "      <td>4</td>\n",
       "      <td>5</td>\n",
       "      <td>59.2</td>\n",
       "      <td>56.0</td>\n",
       "      <td>6.88</td>\n",
       "      <td>6.83</td>\n",
       "      <td>0.0</td>\n",
       "    </tr>\n",
       "    <tr>\n",
       "      <th>10219</th>\n",
       "      <td>10219</td>\n",
       "      <td>1.00</td>\n",
       "      <td>1</td>\n",
       "      <td>4</td>\n",
       "      <td>7</td>\n",
       "      <td>59.1</td>\n",
       "      <td>59.0</td>\n",
       "      <td>6.55</td>\n",
       "      <td>6.48</td>\n",
       "      <td>0.0</td>\n",
       "    </tr>\n",
       "  </tbody>\n",
       "</table>\n",
       "</div>"
      ],
      "text/plain": [
       "          id  carat  cut  color  clarity  depth  table     x     y    z\n",
       "8786    8786   1.14    4      4        4   57.5   67.0  0.00  0.00  0.0\n",
       "8876    8876   1.15    2      4        5   59.2   56.0  6.88  6.83  0.0\n",
       "10219  10219   1.00    1      4        7   59.1   59.0  6.55  6.48  0.0"
      ]
     },
     "execution_count": 52,
     "metadata": {},
     "output_type": "execute_result"
    }
   ],
   "source": [
    "#checking if we have zeros\n",
    "\n",
    "df[((df['x'] == 0) | (df['y'] == 0)) | (df['z'] == 0)  | (df['table'] == 0)  | (df['cut'] == 0)]"
   ]
  },
  {
   "cell_type": "code",
   "execution_count": 53,
   "id": "dc4c3c07",
   "metadata": {},
   "outputs": [
    {
     "data": {
      "text/html": [
       "<div>\n",
       "<style scoped>\n",
       "    .dataframe tbody tr th:only-of-type {\n",
       "        vertical-align: middle;\n",
       "    }\n",
       "\n",
       "    .dataframe tbody tr th {\n",
       "        vertical-align: top;\n",
       "    }\n",
       "\n",
       "    .dataframe thead th {\n",
       "        text-align: right;\n",
       "    }\n",
       "</style>\n",
       "<table border=\"1\" class=\"dataframe\">\n",
       "  <thead>\n",
       "    <tr style=\"text-align: right;\">\n",
       "      <th></th>\n",
       "      <th>id</th>\n",
       "      <th>carat</th>\n",
       "      <th>cut</th>\n",
       "      <th>color</th>\n",
       "      <th>clarity</th>\n",
       "      <th>depth</th>\n",
       "      <th>table</th>\n",
       "      <th>x</th>\n",
       "      <th>y</th>\n",
       "      <th>z</th>\n",
       "    </tr>\n",
       "  </thead>\n",
       "  <tbody>\n",
       "    <tr>\n",
       "      <th>8267</th>\n",
       "      <td>8267</td>\n",
       "      <td>0.90</td>\n",
       "      <td>4</td>\n",
       "      <td>2</td>\n",
       "      <td>7</td>\n",
       "      <td>57.5</td>\n",
       "      <td>68.0</td>\n",
       "      <td>6.37</td>\n",
       "      <td>6.33</td>\n",
       "      <td>3.65</td>\n",
       "    </tr>\n",
       "    <tr>\n",
       "      <th>8786</th>\n",
       "      <td>8786</td>\n",
       "      <td>1.14</td>\n",
       "      <td>4</td>\n",
       "      <td>4</td>\n",
       "      <td>4</td>\n",
       "      <td>57.5</td>\n",
       "      <td>67.0</td>\n",
       "      <td>0.00</td>\n",
       "      <td>0.00</td>\n",
       "      <td>0.00</td>\n",
       "    </tr>\n",
       "  </tbody>\n",
       "</table>\n",
       "</div>"
      ],
      "text/plain": [
       "        id  carat  cut  color  clarity  depth  table     x     y     z\n",
       "8267  8267   0.90    4      2        7   57.5   68.0  6.37  6.33  3.65\n",
       "8786  8786   1.14    4      4        4   57.5   67.0  0.00  0.00  0.00"
      ]
     },
     "execution_count": 53,
     "metadata": {},
     "output_type": "execute_result"
    }
   ],
   "source": [
    "#We have some zeros and we cant drop the rows becuase we need to upload the complete csv\n",
    "#So we are going to look up similar rows on the dataset so that we can change the zeros\n",
    "#for kind of correct value \n",
    "\n",
    "#8786 row\n",
    "\n",
    "#The most similar to our 8786 in size is\n",
    "df[((df.depth>57) & (df.depth<58) &(df.table>66.0)&(df.table<69.0) )]"
   ]
  },
  {
   "cell_type": "code",
   "execution_count": 54,
   "id": "0824ffc4",
   "metadata": {},
   "outputs": [],
   "source": [
    "# we have considered these are the better values \n",
    "df.at[8786,\"x\"]  = 6.37\n",
    "df.at[8786,\"y\"]  = 6.33\n",
    "df.at[8786,\"z\"]  = 3.65"
   ]
  },
  {
   "cell_type": "code",
   "execution_count": 55,
   "id": "7900a113",
   "metadata": {},
   "outputs": [
    {
     "data": {
      "text/html": [
       "<div>\n",
       "<style scoped>\n",
       "    .dataframe tbody tr th:only-of-type {\n",
       "        vertical-align: middle;\n",
       "    }\n",
       "\n",
       "    .dataframe tbody tr th {\n",
       "        vertical-align: top;\n",
       "    }\n",
       "\n",
       "    .dataframe thead th {\n",
       "        text-align: right;\n",
       "    }\n",
       "</style>\n",
       "<table border=\"1\" class=\"dataframe\">\n",
       "  <thead>\n",
       "    <tr style=\"text-align: right;\">\n",
       "      <th></th>\n",
       "      <th>id</th>\n",
       "      <th>carat</th>\n",
       "      <th>cut</th>\n",
       "      <th>color</th>\n",
       "      <th>clarity</th>\n",
       "      <th>depth</th>\n",
       "      <th>table</th>\n",
       "      <th>x</th>\n",
       "      <th>y</th>\n",
       "      <th>z</th>\n",
       "    </tr>\n",
       "  </thead>\n",
       "  <tbody>\n",
       "    <tr>\n",
       "      <th>7661</th>\n",
       "      <td>7661</td>\n",
       "      <td>0.51</td>\n",
       "      <td>2</td>\n",
       "      <td>3</td>\n",
       "      <td>5</td>\n",
       "      <td>59.2</td>\n",
       "      <td>56.0</td>\n",
       "      <td>5.23</td>\n",
       "      <td>5.18</td>\n",
       "      <td>3.08</td>\n",
       "    </tr>\n",
       "    <tr>\n",
       "      <th>8876</th>\n",
       "      <td>8876</td>\n",
       "      <td>1.15</td>\n",
       "      <td>2</td>\n",
       "      <td>4</td>\n",
       "      <td>5</td>\n",
       "      <td>59.2</td>\n",
       "      <td>56.0</td>\n",
       "      <td>6.88</td>\n",
       "      <td>6.83</td>\n",
       "      <td>0.00</td>\n",
       "    </tr>\n",
       "    <tr>\n",
       "      <th>9057</th>\n",
       "      <td>9057</td>\n",
       "      <td>1.02</td>\n",
       "      <td>3</td>\n",
       "      <td>2</td>\n",
       "      <td>6</td>\n",
       "      <td>59.2</td>\n",
       "      <td>56.0</td>\n",
       "      <td>6.57</td>\n",
       "      <td>6.63</td>\n",
       "      <td>3.91</td>\n",
       "    </tr>\n",
       "  </tbody>\n",
       "</table>\n",
       "</div>"
      ],
      "text/plain": [
       "        id  carat  cut  color  clarity  depth  table     x     y     z\n",
       "7661  7661   0.51    2      3        5   59.2   56.0  5.23  5.18  3.08\n",
       "8876  8876   1.15    2      4        5   59.2   56.0  6.88  6.83  0.00\n",
       "9057  9057   1.02    3      2        6   59.2   56.0  6.57  6.63  3.91"
      ]
     },
     "execution_count": 55,
     "metadata": {},
     "output_type": "execute_result"
    }
   ],
   "source": [
    "# Now is the turn of the row \n",
    "\n",
    "#8876\n",
    "\n",
    "df[((df.depth==59.2) &(df.table==56)  )]\n"
   ]
  },
  {
   "cell_type": "code",
   "execution_count": 56,
   "id": "8db54cba",
   "metadata": {},
   "outputs": [],
   "source": [
    "df.at[8876,\"z\"]  = 3.91"
   ]
  },
  {
   "cell_type": "code",
   "execution_count": 57,
   "id": "3a3b56c9",
   "metadata": {},
   "outputs": [
    {
     "data": {
      "text/html": [
       "<div>\n",
       "<style scoped>\n",
       "    .dataframe tbody tr th:only-of-type {\n",
       "        vertical-align: middle;\n",
       "    }\n",
       "\n",
       "    .dataframe tbody tr th {\n",
       "        vertical-align: top;\n",
       "    }\n",
       "\n",
       "    .dataframe thead th {\n",
       "        text-align: right;\n",
       "    }\n",
       "</style>\n",
       "<table border=\"1\" class=\"dataframe\">\n",
       "  <thead>\n",
       "    <tr style=\"text-align: right;\">\n",
       "      <th></th>\n",
       "      <th>id</th>\n",
       "      <th>carat</th>\n",
       "      <th>cut</th>\n",
       "      <th>color</th>\n",
       "      <th>clarity</th>\n",
       "      <th>depth</th>\n",
       "      <th>table</th>\n",
       "      <th>x</th>\n",
       "      <th>y</th>\n",
       "      <th>z</th>\n",
       "    </tr>\n",
       "  </thead>\n",
       "  <tbody>\n",
       "    <tr>\n",
       "      <th>3338</th>\n",
       "      <td>3338</td>\n",
       "      <td>1.01</td>\n",
       "      <td>1</td>\n",
       "      <td>3</td>\n",
       "      <td>6</td>\n",
       "      <td>59.1</td>\n",
       "      <td>59.0</td>\n",
       "      <td>6.56</td>\n",
       "      <td>6.50</td>\n",
       "      <td>3.86</td>\n",
       "    </tr>\n",
       "    <tr>\n",
       "      <th>7872</th>\n",
       "      <td>7872</td>\n",
       "      <td>1.00</td>\n",
       "      <td>1</td>\n",
       "      <td>2</td>\n",
       "      <td>4</td>\n",
       "      <td>59.1</td>\n",
       "      <td>59.0</td>\n",
       "      <td>6.56</td>\n",
       "      <td>6.51</td>\n",
       "      <td>3.86</td>\n",
       "    </tr>\n",
       "    <tr>\n",
       "      <th>10219</th>\n",
       "      <td>10219</td>\n",
       "      <td>1.00</td>\n",
       "      <td>1</td>\n",
       "      <td>4</td>\n",
       "      <td>7</td>\n",
       "      <td>59.1</td>\n",
       "      <td>59.0</td>\n",
       "      <td>6.55</td>\n",
       "      <td>6.48</td>\n",
       "      <td>0.00</td>\n",
       "    </tr>\n",
       "  </tbody>\n",
       "</table>\n",
       "</div>"
      ],
      "text/plain": [
       "          id  carat  cut  color  clarity  depth  table     x     y     z\n",
       "3338    3338   1.01    1      3        6   59.1   59.0  6.56  6.50  3.86\n",
       "7872    7872   1.00    1      2        4   59.1   59.0  6.56  6.51  3.86\n",
       "10219  10219   1.00    1      4        7   59.1   59.0  6.55  6.48  0.00"
      ]
     },
     "execution_count": 57,
     "metadata": {},
     "output_type": "execute_result"
    }
   ],
   "source": [
    "# The last but not the least , the row \n",
    "# 10219\n",
    "\n",
    "df[((df.depth==59.1) &(df.table==59) &(df.y>6.47) &(df.y<6.52) )]"
   ]
  },
  {
   "cell_type": "code",
   "execution_count": 58,
   "id": "97b6a032",
   "metadata": {},
   "outputs": [],
   "source": [
    "df.at[10219,\"z\"]  = 3.86"
   ]
  },
  {
   "cell_type": "code",
   "execution_count": 59,
   "id": "1ae9ac5d",
   "metadata": {},
   "outputs": [],
   "source": [
    "# Everything is ready now for the new columns and its divisions"
   ]
  },
  {
   "cell_type": "code",
   "execution_count": 60,
   "id": "bd724c68",
   "metadata": {},
   "outputs": [],
   "source": [
    "df[\"clar_color\"] =(df.clarity*df.color)\n",
    "df[\"table_color\"] =(df.table*df.cut)\n",
    "df[\"table_clarity\"] =(df.table*df.clarity)\n",
    "df[\"table_/_clarity\"] =(df.table/df.clarity)\n",
    "df[\"table_clarity_cut\"] =(df.table*df.clarity*df.cut)\n",
    "df[\"x*y*z\"] = (df.x*df.y*df.z)\n",
    "df[\"x_/_y\"] = (df.x/df.y)\n",
    "df[\"x_/_z\"] = (df.y/df.z)\n",
    "df [\"all\"] = df.carat*df.cut*df.color*df.depth*df.table*df.x*df.y*df.z/7\n"
   ]
  },
  {
   "cell_type": "code",
   "execution_count": 61,
   "id": "6f0d2a9a",
   "metadata": {},
   "outputs": [
    {
     "data": {
      "text/html": [
       "<div>\n",
       "<style scoped>\n",
       "    .dataframe tbody tr th:only-of-type {\n",
       "        vertical-align: middle;\n",
       "    }\n",
       "\n",
       "    .dataframe tbody tr th {\n",
       "        vertical-align: top;\n",
       "    }\n",
       "\n",
       "    .dataframe thead th {\n",
       "        text-align: right;\n",
       "    }\n",
       "</style>\n",
       "<table border=\"1\" class=\"dataframe\">\n",
       "  <thead>\n",
       "    <tr style=\"text-align: right;\">\n",
       "      <th></th>\n",
       "      <th>carat</th>\n",
       "      <th>cut</th>\n",
       "      <th>color</th>\n",
       "      <th>clarity</th>\n",
       "      <th>depth</th>\n",
       "      <th>table</th>\n",
       "      <th>clar_color</th>\n",
       "      <th>table_color</th>\n",
       "      <th>table_clarity</th>\n",
       "      <th>table_/_clarity</th>\n",
       "      <th>table_clarity_cut</th>\n",
       "      <th>x*y*z</th>\n",
       "      <th>x_/_y</th>\n",
       "      <th>x_/_z</th>\n",
       "      <th>all</th>\n",
       "    </tr>\n",
       "  </thead>\n",
       "  <tbody>\n",
       "    <tr>\n",
       "      <th>0</th>\n",
       "      <td>0.30</td>\n",
       "      <td>1</td>\n",
       "      <td>1</td>\n",
       "      <td>7</td>\n",
       "      <td>62.4</td>\n",
       "      <td>58.0</td>\n",
       "      <td>7</td>\n",
       "      <td>58.0</td>\n",
       "      <td>406.0</td>\n",
       "      <td>8.285714</td>\n",
       "      <td>406.0</td>\n",
       "      <td>49.437424</td>\n",
       "      <td>1.007009</td>\n",
       "      <td>1.597015</td>\n",
       "      <td>7668.168212</td>\n",
       "    </tr>\n",
       "    <tr>\n",
       "      <th>1</th>\n",
       "      <td>1.01</td>\n",
       "      <td>2</td>\n",
       "      <td>2</td>\n",
       "      <td>3</td>\n",
       "      <td>62.7</td>\n",
       "      <td>56.0</td>\n",
       "      <td>6</td>\n",
       "      <td>112.0</td>\n",
       "      <td>168.0</td>\n",
       "      <td>18.666667</td>\n",
       "      <td>336.0</td>\n",
       "      <td>167.551728</td>\n",
       "      <td>0.993808</td>\n",
       "      <td>1.599010</td>\n",
       "      <td>339537.544930</td>\n",
       "    </tr>\n",
       "  </tbody>\n",
       "</table>\n",
       "</div>"
      ],
      "text/plain": [
       "   carat  cut  color  clarity  depth  table  clar_color  table_color  \\\n",
       "0   0.30    1      1        7   62.4   58.0           7         58.0   \n",
       "1   1.01    2      2        3   62.7   56.0           6        112.0   \n",
       "\n",
       "   table_clarity  table_/_clarity  table_clarity_cut       x*y*z     x_/_y  \\\n",
       "0          406.0         8.285714              406.0   49.437424  1.007009   \n",
       "1          168.0        18.666667              336.0  167.551728  0.993808   \n",
       "\n",
       "      x_/_z            all  \n",
       "0  1.597015    7668.168212  \n",
       "1  1.599010  339537.544930  "
      ]
     },
     "execution_count": 61,
     "metadata": {},
     "output_type": "execute_result"
    }
   ],
   "source": [
    "#a quick look of our X\n",
    "X.head(2)"
   ]
  },
  {
   "cell_type": "code",
   "execution_count": 62,
   "id": "948b1a42",
   "metadata": {},
   "outputs": [
    {
     "name": "stderr",
     "output_type": "stream",
     "text": [
      "<ipython-input-62-206c44e51219>:2: FutureWarning: In a future version of pandas all arguments of DataFrame.drop except for the argument 'labels' will be keyword-only\n",
      "  X_final = df.drop(\"id\", 1)\n",
      "<ipython-input-62-206c44e51219>:3: FutureWarning: In a future version of pandas all arguments of DataFrame.drop except for the argument 'labels' will be keyword-only\n",
      "  X_final = X_final.drop(\"x\",1)\n",
      "<ipython-input-62-206c44e51219>:4: FutureWarning: In a future version of pandas all arguments of DataFrame.drop except for the argument 'labels' will be keyword-only\n",
      "  X_final = X_final.drop(\"y\",1)\n",
      "<ipython-input-62-206c44e51219>:5: FutureWarning: In a future version of pandas all arguments of DataFrame.drop except for the argument 'labels' will be keyword-only\n",
      "  X_final = X_final.drop(\"z\",1)\n"
     ]
    }
   ],
   "source": [
    "# we need to do the sames drops that we did in our initial dataset\n",
    "X_final = df.drop(\"id\", 1)\n",
    "X_final = X_final.drop(\"x\",1)\n",
    "X_final = X_final.drop(\"y\",1)\n",
    "X_final = X_final.drop(\"z\",1)\n"
   ]
  },
  {
   "cell_type": "code",
   "execution_count": 63,
   "id": "e6d56014",
   "metadata": {},
   "outputs": [],
   "source": [
    "#We do the prediction of our X_final\n",
    "y_test_pred = rf_best.predict(X_final)"
   ]
  },
  {
   "cell_type": "code",
   "execution_count": 64,
   "id": "c151de7b",
   "metadata": {},
   "outputs": [
    {
     "data": {
      "text/plain": [
       "array([6.06679714, 8.56021857, 9.49650571, 7.81630429, 8.96070643])"
      ]
     },
     "execution_count": 64,
     "metadata": {},
     "output_type": "execute_result"
    }
   ],
   "source": [
    "# quick look to the first predicted values\n",
    "y_test_pred[0:5]"
   ]
  },
  {
   "cell_type": "code",
   "execution_count": 65,
   "id": "d1b01054",
   "metadata": {},
   "outputs": [],
   "source": [
    "# We load the submision csv and we assign our predictions to the price columns \n",
    "submi = pd.read_csv(\"./data/sample_submission.csv\")\n",
    "submi[\"price\"] = y_test_pred\n"
   ]
  },
  {
   "cell_type": "code",
   "execution_count": 66,
   "id": "689de66f",
   "metadata": {},
   "outputs": [],
   "source": [
    "# we save our new csv, and we are ready for the competition \n",
    "submi.to_csv('submi6.csv', index = False)"
   ]
  },
  {
   "cell_type": "code",
   "execution_count": null,
   "id": "273e6c1a",
   "metadata": {},
   "outputs": [],
   "source": []
  },
  {
   "cell_type": "code",
   "execution_count": null,
   "id": "405ca5eb",
   "metadata": {},
   "outputs": [],
   "source": []
  }
 ],
 "metadata": {
  "kernelspec": {
   "display_name": "Python 3",
   "language": "python",
   "name": "python3"
  },
  "language_info": {
   "codemirror_mode": {
    "name": "ipython",
    "version": 3
   },
   "file_extension": ".py",
   "mimetype": "text/x-python",
   "name": "python",
   "nbconvert_exporter": "python",
   "pygments_lexer": "ipython3",
   "version": "3.8.8"
  }
 },
 "nbformat": 4,
 "nbformat_minor": 5
}
